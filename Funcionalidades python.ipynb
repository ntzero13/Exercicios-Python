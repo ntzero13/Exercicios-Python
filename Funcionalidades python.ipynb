{
 "cells": [
  {
   "cell_type": "markdown",
   "metadata": {},
   "source": [
    "# Funcionalidades Python"
   ]
  },
  {
   "cell_type": "code",
   "execution_count": 24,
   "metadata": {},
   "outputs": [],
   "source": [
    "s = \"Texto\""
   ]
  },
  {
   "cell_type": "code",
   "execution_count": 25,
   "metadata": {},
   "outputs": [],
   "source": [
    "dicionario = {\"a\": 1, \"b\": 2}"
   ]
  },
  {
   "cell_type": "code",
   "execution_count": 26,
   "metadata": {},
   "outputs": [
    {
     "ename": "KeyError",
     "evalue": "'c'",
     "output_type": "error",
     "traceback": [
      "\u001b[1;31m---------------------------------------------------------------------------\u001b[0m",
      "\u001b[1;31mKeyError\u001b[0m                                  Traceback (most recent call last)",
      "Cell \u001b[1;32mIn [26], line 1\u001b[0m\n\u001b[1;32m----> 1\u001b[0m \u001b[43mdicionario\u001b[49m\u001b[43m[\u001b[49m\u001b[38;5;124;43m'\u001b[39;49m\u001b[38;5;124;43mc\u001b[39;49m\u001b[38;5;124;43m'\u001b[39;49m\u001b[43m]\u001b[49m\n",
      "\u001b[1;31mKeyError\u001b[0m: 'c'"
     ]
    }
   ],
   "source": [
    "dicionario['c']"
   ]
  },
  {
   "cell_type": "code",
   "execution_count": null,
   "metadata": {},
   "outputs": [
    {
     "name": "stdout",
     "output_type": "stream",
     "text": [
      "Não existe essa chave na lista\n"
     ]
    }
   ],
   "source": [
    "try:\n",
    "    dicionario['c']\n",
    "except:\n",
    "    print(\"Não existe essa chave na lista\")"
   ]
  },
  {
   "cell_type": "code",
   "execution_count": null,
   "metadata": {},
   "outputs": [
    {
     "name": "stdout",
     "output_type": "stream",
     "text": [
      "Valor invalido\n"
     ]
    }
   ],
   "source": [
    "try:\n",
    "    if ('S'%2==0):\n",
    "        print(\"OK\")\n",
    "except:\n",
    "    print(\"Valor invalido\")"
   ]
  },
  {
   "cell_type": "code",
   "execution_count": null,
   "metadata": {},
   "outputs": [
    {
     "name": "stdout",
     "output_type": "stream",
     "text": [
      "False\n",
      "Não é callable\n"
     ]
    }
   ],
   "source": [
    "x = 5\n",
    "print(callable(x))\n",
    "try:\n",
    "    print(x.__call__)\n",
    "except:\n",
    "    print(\"Não é callable\")"
   ]
  },
  {
   "cell_type": "code",
   "execution_count": null,
   "metadata": {},
   "outputs": [
    {
     "name": "stdout",
     "output_type": "stream",
     "text": [
      "True\n",
      "<method-wrapper '__call__' of function object at 0x0000022F30C5FC70>\n"
     ]
    }
   ],
   "source": [
    "def x():\n",
    "    a = 5\n",
    "print(callable(x))\n",
    "try:\n",
    "    print(x.__call__)\n",
    "except:\n",
    "    print(\"Não é callable\")"
   ]
  },
  {
   "cell_type": "code",
   "execution_count": null,
   "metadata": {},
   "outputs": [],
   "source": [
    "def func():\n",
    "    a=1\n",
    "    print(locals())"
   ]
  },
  {
   "cell_type": "code",
   "execution_count": null,
   "metadata": {},
   "outputs": [
    {
     "name": "stdout",
     "output_type": "stream",
     "text": [
      "{'a': 1}\n"
     ]
    }
   ],
   "source": [
    "func()"
   ]
  },
  {
   "cell_type": "code",
   "execution_count": null,
   "metadata": {},
   "outputs": [
    {
     "name": "stdout",
     "output_type": "stream",
     "text": [
      "<class 'dict'>\n"
     ]
    }
   ],
   "source": [
    "print(type(locals()))"
   ]
  },
  {
   "cell_type": "code",
   "execution_count": null,
   "metadata": {},
   "outputs": [
    {
     "name": "stdout",
     "output_type": "stream",
     "text": [
      "<class 'dict'>\n"
     ]
    }
   ],
   "source": [
    "print(type(globals()))"
   ]
  },
  {
   "cell_type": "code",
   "execution_count": null,
   "metadata": {},
   "outputs": [
    {
     "data": {
      "text/plain": [
       "{'__name__': '__main__',\n",
       " '__doc__': 'Automatically created module for IPython interactive environment',\n",
       " '__package__': None,\n",
       " '__loader__': None,\n",
       " '__spec__': None,\n",
       " '__builtin__': <module 'builtins' (built-in)>,\n",
       " '__builtins__': <module 'builtins' (built-in)>,\n",
       " '_ih': ['',\n",
       "  \"dicionario['c']\",\n",
       "  'try:\\n    dicionario[\\'c\\']\\nexcept:\\n    print(\"Não existe essa chave na lista\")',\n",
       "  's = \"Texto\"',\n",
       "  'dicionario = {\"a\": 1, \"b\": 2}',\n",
       "  \"dicionario['c']\",\n",
       "  'try:\\n    if (\\'S\\'%2==0):\\n        print(\"OK\")\\nexcept:\\n    print(\"Valor invalido\")',\n",
       "  'x = 5',\n",
       "  'x = 5\\nprint(callable(x))\\ntry:\\n    print(x.__call__)\\nexcept:\\n    print(\"Não é callable\")',\n",
       "  'def x():\\n    a = 5\\nprint(callable(x))\\ntry:\\n    print(x.__call__)\\nexcept:\\n    print(\"Não é callable\")',\n",
       "  'def func():\\n    a=1\\n    print(local())',\n",
       "  'func()',\n",
       "  'def func():\\n    a=1\\n    print(locals())',\n",
       "  'func()',\n",
       "  'print(Type(locals()))',\n",
       "  'print(type(locals()))',\n",
       "  'print(type(globals()))',\n",
       "  'globals()'],\n",
       " '_oh': {},\n",
       " '_dh': [WindowsPath('c:/Users/lneto/AppData/Local/Programs/Microsoft VS Code')],\n",
       " 'In': ['',\n",
       "  \"dicionario['c']\",\n",
       "  'try:\\n    dicionario[\\'c\\']\\nexcept:\\n    print(\"Não existe essa chave na lista\")',\n",
       "  's = \"Texto\"',\n",
       "  'dicionario = {\"a\": 1, \"b\": 2}',\n",
       "  \"dicionario['c']\",\n",
       "  'try:\\n    if (\\'S\\'%2==0):\\n        print(\"OK\")\\nexcept:\\n    print(\"Valor invalido\")',\n",
       "  'x = 5',\n",
       "  'x = 5\\nprint(callable(x))\\ntry:\\n    print(x.__call__)\\nexcept:\\n    print(\"Não é callable\")',\n",
       "  'def x():\\n    a = 5\\nprint(callable(x))\\ntry:\\n    print(x.__call__)\\nexcept:\\n    print(\"Não é callable\")',\n",
       "  'def func():\\n    a=1\\n    print(local())',\n",
       "  'func()',\n",
       "  'def func():\\n    a=1\\n    print(locals())',\n",
       "  'func()',\n",
       "  'print(Type(locals()))',\n",
       "  'print(type(locals()))',\n",
       "  'print(type(globals()))',\n",
       "  'globals()'],\n",
       " 'Out': {},\n",
       " 'get_ipython': <bound method InteractiveShell.get_ipython of <ipykernel.zmqshell.ZMQInteractiveShell object at 0x0000022F2EC6B610>>,\n",
       " 'exit': <IPython.core.autocall.ZMQExitAutocall at 0x22f2ec691e0>,\n",
       " 'quit': <IPython.core.autocall.ZMQExitAutocall at 0x22f2ec691e0>,\n",
       " '_': '',\n",
       " '__': '',\n",
       " '___': '',\n",
       " '__vsc_ipynb_file__': 'Untitled-1.ipynb',\n",
       " '_i': 'print(type(globals()))',\n",
       " '_ii': 'print(type(locals()))',\n",
       " '_iii': 'print(Type(locals()))',\n",
       " '_i1': \"dicionario['c']\",\n",
       " '_i2': 'try:\\n    dicionario[\\'c\\']\\nexcept:\\n    print(\"Não existe essa chave na lista\")',\n",
       " '_i3': 's = \"Texto\"',\n",
       " 's': 'Texto',\n",
       " '_i4': 'dicionario = {\"a\": 1, \"b\": 2}',\n",
       " 'dicionario': {'a': 1, 'b': 2},\n",
       " '_i5': \"dicionario['c']\",\n",
       " '_i6': 'try:\\n    if (\\'S\\'%2==0):\\n        print(\"OK\")\\nexcept:\\n    print(\"Valor invalido\")',\n",
       " '_i7': 'x = 5',\n",
       " 'x': <function __main__.x()>,\n",
       " '_i8': 'x = 5\\nprint(callable(x))\\ntry:\\n    print(x.__call__)\\nexcept:\\n    print(\"Não é callable\")',\n",
       " '_i9': 'def x():\\n    a = 5\\nprint(callable(x))\\ntry:\\n    print(x.__call__)\\nexcept:\\n    print(\"Não é callable\")',\n",
       " '_i10': 'def func():\\n    a=1\\n    print(local())',\n",
       " 'func': <function __main__.func()>,\n",
       " '_i11': 'func()',\n",
       " '_i12': 'def func():\\n    a=1\\n    print(locals())',\n",
       " '_i13': 'func()',\n",
       " '_i14': 'print(Type(locals()))',\n",
       " '_i15': 'print(type(locals()))',\n",
       " '_i16': 'print(type(globals()))',\n",
       " '_i17': 'globals()'}"
      ]
     },
     "execution_count": 17,
     "metadata": {},
     "output_type": "execute_result"
    }
   ],
   "source": [
    "globals()"
   ]
  },
  {
   "cell_type": "code",
   "execution_count": null,
   "metadata": {},
   "outputs": [
    {
     "ename": "KeyError",
     "evalue": "'s'",
     "output_type": "error",
     "traceback": [
      "\u001b[1;31m---------------------------------------------------------------------------\u001b[0m",
      "\u001b[1;31mKeyError\u001b[0m                                  Traceback (most recent call last)",
      "Cell \u001b[1;32mIn [1], line 1\u001b[0m\n\u001b[1;32m----> 1\u001b[0m \u001b[38;5;28;43mglobals\u001b[39;49m\u001b[43m(\u001b[49m\u001b[43m)\u001b[49m\u001b[43m[\u001b[49m\u001b[38;5;124;43m'\u001b[39;49m\u001b[38;5;124;43ms\u001b[39;49m\u001b[38;5;124;43m'\u001b[39;49m\u001b[43m]\u001b[49m\n",
      "\u001b[1;31mKeyError\u001b[0m: 's'"
     ]
    }
   ],
   "source": [
    "globals()['s']"
   ]
  },
  {
   "cell_type": "code",
   "execution_count": null,
   "metadata": {},
   "outputs": [
    {
     "ename": "KeyError",
     "evalue": "'dicionario'",
     "output_type": "error",
     "traceback": [
      "\u001b[1;31m---------------------------------------------------------------------------\u001b[0m",
      "\u001b[1;31mKeyError\u001b[0m                                  Traceback (most recent call last)",
      "Cell \u001b[1;32mIn [2], line 1\u001b[0m\n\u001b[1;32m----> 1\u001b[0m \u001b[38;5;28;43mglobals\u001b[39;49m\u001b[43m(\u001b[49m\u001b[43m)\u001b[49m\u001b[43m[\u001b[49m\u001b[38;5;124;43m'\u001b[39;49m\u001b[38;5;124;43mdicionario\u001b[39;49m\u001b[38;5;124;43m'\u001b[39;49m\u001b[43m]\u001b[49m[\u001b[38;5;124m'\u001b[39m\u001b[38;5;124ma\u001b[39m\u001b[38;5;124m'\u001b[39m]\n",
      "\u001b[1;31mKeyError\u001b[0m: 'dicionario'"
     ]
    }
   ],
   "source": [
    "globals()['dicionario']['a']"
   ]
  },
  {
   "cell_type": "code",
   "execution_count": null,
   "metadata": {},
   "outputs": [
    {
     "name": "stdout",
     "output_type": "stream",
     "text": [
      "<class 'int'>\n",
      "<class 'str'>\n",
      "<class 'collections.OrderedDict'>\n",
      "<class '__main__.classeTeste'>\n"
     ]
    }
   ],
   "source": [
    "x = 100\n",
    "print(type(x))\n",
    "s = 'string'\n",
    "print(type(s))\n",
    "from collections import OrderedDict\n",
    "od = OrderedDict()\n",
    "print(type(od))\n",
    "\n",
    "class classeTeste:\n",
    "    pass\n",
    "\n",
    "cT= classeTeste()\n",
    "print(type(cT))"
   ]
  },
  {
   "cell_type": "code",
   "execution_count": 37,
   "metadata": {},
   "outputs": [],
   "source": [
    "class Exemplo:\n",
    "    \"\"\" Descrição de Classe Exemplo\"\"\"\n",
    "    d_id = 10\n",
    "\n",
    "    def __init__(self, nome, cor):\n",
    "        self.nome = nome\n",
    "        self.color =cor\n",
    "\n",
    "class SubExemplo(Exemplo):\n",
    "    \"\"\"Descrição da classe SubExemplo\"\"\"\n",
    "    sd_id = 20"
   ]
  },
  {
   "cell_type": "code",
   "execution_count": 38,
   "metadata": {},
   "outputs": [
    {
     "name": "stdout",
     "output_type": "stream",
     "text": [
      "False\n"
     ]
    }
   ],
   "source": [
    "print(isinstance(Exemplo, int))"
   ]
  },
  {
   "cell_type": "code",
   "execution_count": 39,
   "metadata": {},
   "outputs": [
    {
     "name": "stdout",
     "output_type": "stream",
     "text": [
      "True\n"
     ]
    }
   ],
   "source": [
    "print(isinstance(Exemplo, type))"
   ]
  },
  {
   "cell_type": "code",
   "execution_count": 40,
   "metadata": {},
   "outputs": [
    {
     "name": "stdout",
     "output_type": "stream",
     "text": [
      "<class 'type'>\n",
      "<class 'type'>\n",
      "<class 'type'>\n"
     ]
    }
   ],
   "source": [
    "print(Exemplo.__class__)\n",
    "print(type(Exemplo))\n",
    "print(type(SubExemplo))\n"
   ]
  },
  {
   "cell_type": "code",
   "execution_count": 41,
   "metadata": {},
   "outputs": [],
   "source": [
    "num = 1.00"
   ]
  },
  {
   "cell_type": "code",
   "execution_count": 42,
   "metadata": {},
   "outputs": [
    {
     "name": "stdout",
     "output_type": "stream",
     "text": [
      "True\n",
      "False\n"
     ]
    }
   ],
   "source": [
    "print(isinstance(num, float))\n",
    "print(isinstance(num, int))"
   ]
  },
  {
   "cell_type": "code",
   "execution_count": 43,
   "metadata": {},
   "outputs": [],
   "source": [
    "num=1"
   ]
  },
  {
   "cell_type": "code",
   "execution_count": 44,
   "metadata": {},
   "outputs": [
    {
     "name": "stdout",
     "output_type": "stream",
     "text": [
      "True\n"
     ]
    }
   ],
   "source": [
    "print(isinstance(num, int))"
   ]
  },
  {
   "cell_type": "code",
   "execution_count": 45,
   "metadata": {},
   "outputs": [
    {
     "name": "stdout",
     "output_type": "stream",
     "text": [
      "True\n"
     ]
    }
   ],
   "source": [
    "print(isinstance(s,str))"
   ]
  },
  {
   "cell_type": "code",
   "execution_count": 46,
   "metadata": {},
   "outputs": [
    {
     "name": "stdout",
     "output_type": "stream",
     "text": [
      "True\n"
     ]
    }
   ],
   "source": [
    "print(isinstance(dicionario, dict))"
   ]
  },
  {
   "cell_type": "code",
   "execution_count": 47,
   "metadata": {},
   "outputs": [
    {
     "data": {
      "text/plain": [
       "dict"
      ]
     },
     "execution_count": 47,
     "metadata": {},
     "output_type": "execute_result"
    }
   ],
   "source": [
    "type(dicionario)"
   ]
  },
  {
   "cell_type": "code",
   "execution_count": 48,
   "metadata": {},
   "outputs": [
    {
     "data": {
      "text/plain": [
       "dict"
      ]
     },
     "execution_count": 48,
     "metadata": {},
     "output_type": "execute_result"
    }
   ],
   "source": [
    "dicionario.__class__"
   ]
  },
  {
   "cell_type": "code",
   "execution_count": 49,
   "metadata": {},
   "outputs": [
    {
     "name": "stdout",
     "output_type": "stream",
     "text": [
      "(<class 'object'>,)\n"
     ]
    }
   ],
   "source": [
    "print(Exemplo.__bases__)"
   ]
  },
  {
   "cell_type": "code",
   "execution_count": 50,
   "metadata": {},
   "outputs": [
    {
     "name": "stdout",
     "output_type": "stream",
     "text": [
      "(<class '__main__.Exemplo'>,)\n"
     ]
    }
   ],
   "source": [
    "print(SubExemplo.__bases__)"
   ]
  },
  {
   "cell_type": "code",
   "execution_count": 51,
   "metadata": {},
   "outputs": [
    {
     "name": "stdout",
     "output_type": "stream",
     "text": [
      "{'__module__': '__main__', '__doc__': ' Descrição de Classe Exemplo', 'd_id': 10, '__init__': <function Exemplo.__init__ at 0x0000019B43A8FE20>, '__dict__': <attribute '__dict__' of 'Exemplo' objects>, '__weakref__': <attribute '__weakref__' of 'Exemplo' objects>}\n"
     ]
    }
   ],
   "source": [
    "print(Exemplo.__dict__)"
   ]
  },
  {
   "cell_type": "code",
   "execution_count": 52,
   "metadata": {},
   "outputs": [],
   "source": [
    "ex = Exemplo('Dinis','Branco')\n"
   ]
  },
  {
   "cell_type": "code",
   "execution_count": 53,
   "metadata": {},
   "outputs": [
    {
     "name": "stdout",
     "output_type": "stream",
     "text": [
      "{'nome': 'Dinis', 'color': 'Branco'}\n"
     ]
    }
   ],
   "source": [
    "print(ex.__dict__)"
   ]
  },
  {
   "cell_type": "code",
   "execution_count": 54,
   "metadata": {},
   "outputs": [
    {
     "name": "stdout",
     "output_type": "stream",
     "text": [
      " Descrição de Classe Exemplo\n"
     ]
    }
   ],
   "source": [
    "print(Exemplo.__doc__)"
   ]
  },
  {
   "cell_type": "code",
   "execution_count": 55,
   "metadata": {},
   "outputs": [
    {
     "name": "stdout",
     "output_type": "stream",
     "text": [
      "Descrição da classe SubExemplo\n"
     ]
    }
   ],
   "source": [
    "print(SubExemplo.__doc__)"
   ]
  },
  {
   "cell_type": "code",
   "execution_count": 60,
   "metadata": {},
   "outputs": [],
   "source": [
    "def ola(nome=\"joaquim\"):\n",
    "    print(\"Ola, \" + nome)\n",
    "\n",
    "    def tudo_bem():\n",
    "        print(\"tudo Bem\")\n",
    "\n",
    "    def bom_dia():\n",
    "        print(\"Bom dia \")\n",
    "\n",
    "    if nome =='Joaquim':\n",
    "        return tudo_bem\n",
    "    else:\n",
    "        return bom_dia"
   ]
  },
  {
   "cell_type": "code",
   "execution_count": 61,
   "metadata": {},
   "outputs": [
    {
     "name": "stdout",
     "output_type": "stream",
     "text": [
      "Ola, joaquim\n"
     ]
    },
    {
     "data": {
      "text/plain": [
       "<function __main__.ola.<locals>.bom_dia()>"
      ]
     },
     "execution_count": 61,
     "metadata": {},
     "output_type": "execute_result"
    }
   ],
   "source": [
    "ola()"
   ]
  },
  {
   "cell_type": "code",
   "execution_count": 62,
   "metadata": {},
   "outputs": [
    {
     "name": "stdout",
     "output_type": "stream",
     "text": [
      "Ola, joaquim\n"
     ]
    }
   ],
   "source": [
    "funcao=ola()"
   ]
  },
  {
   "cell_type": "code",
   "execution_count": 63,
   "metadata": {},
   "outputs": [
    {
     "data": {
      "text/plain": [
       "<function __main__.ola.<locals>.bom_dia()>"
      ]
     },
     "execution_count": 63,
     "metadata": {},
     "output_type": "execute_result"
    }
   ],
   "source": [
    "funcao"
   ]
  },
  {
   "cell_type": "code",
   "execution_count": 64,
   "metadata": {},
   "outputs": [
    {
     "data": {
      "text/plain": [
       "function"
      ]
     },
     "execution_count": 64,
     "metadata": {},
     "output_type": "execute_result"
    }
   ],
   "source": [
    "type(funcao)"
   ]
  },
  {
   "cell_type": "code",
   "execution_count": 65,
   "metadata": {},
   "outputs": [
    {
     "name": "stdout",
     "output_type": "stream",
     "text": [
      "Bom dia \n"
     ]
    }
   ],
   "source": [
    "funcao()"
   ]
  },
  {
   "cell_type": "code",
   "execution_count": 66,
   "metadata": {},
   "outputs": [],
   "source": [
    "class Teste:\n",
    "    def calcula(self):\n",
    "        return 1+2"
   ]
  },
  {
   "cell_type": "code",
   "execution_count": 67,
   "metadata": {},
   "outputs": [],
   "source": [
    "t = Teste()"
   ]
  },
  {
   "cell_type": "code",
   "execution_count": 68,
   "metadata": {},
   "outputs": [],
   "source": [
    "def devolve_classe():\n",
    "    return t"
   ]
  },
  {
   "cell_type": "code",
   "execution_count": 69,
   "metadata": {},
   "outputs": [
    {
     "data": {
      "text/plain": [
       "<__main__.Teste at 0x19b420b43d0>"
      ]
     },
     "execution_count": 69,
     "metadata": {},
     "output_type": "execute_result"
    }
   ],
   "source": [
    "devolve_classe()"
   ]
  },
  {
   "cell_type": "code",
   "execution_count": 70,
   "metadata": {},
   "outputs": [],
   "source": [
    "novo_t = devolve_classe()"
   ]
  },
  {
   "cell_type": "code",
   "execution_count": 71,
   "metadata": {},
   "outputs": [
    {
     "data": {
      "text/plain": [
       "<__main__.Teste at 0x19b420b43d0>"
      ]
     },
     "execution_count": 71,
     "metadata": {},
     "output_type": "execute_result"
    }
   ],
   "source": [
    "novo_t"
   ]
  },
  {
   "cell_type": "code",
   "execution_count": 72,
   "metadata": {},
   "outputs": [
    {
     "data": {
      "text/plain": [
       "<__main__.Teste at 0x19b420b43d0>"
      ]
     },
     "execution_count": 72,
     "metadata": {},
     "output_type": "execute_result"
    }
   ],
   "source": [
    "t"
   ]
  },
  {
   "cell_type": "code",
   "execution_count": 73,
   "metadata": {},
   "outputs": [
    {
     "name": "stdout",
     "output_type": "stream",
     "text": [
      "3\n"
     ]
    }
   ],
   "source": [
    "print(novo_t.calcula())"
   ]
  },
  {
   "cell_type": "code",
   "execution_count": 74,
   "metadata": {},
   "outputs": [],
   "source": [
    "def ola():\n",
    "    print(\"Ola. \")\n",
    "\n",
    "def outra(func):\n",
    "    print(\"outra funcao.\")\n",
    "    func()"
   ]
  },
  {
   "cell_type": "code",
   "execution_count": 75,
   "metadata": {},
   "outputs": [
    {
     "name": "stdout",
     "output_type": "stream",
     "text": [
      "outra funcao.\n",
      "Ola. \n"
     ]
    }
   ],
   "source": [
    "outra(ola)"
   ]
  },
  {
   "cell_type": "code",
   "execution_count": 78,
   "metadata": {},
   "outputs": [],
   "source": [
    "class a:\n",
    "    def __init__(self):\n",
    "        print(\"Objeto da classe criado.\")\n",
    "\n",
    "def ola_classe(classe):\n",
    "    x = classe()"
   ]
  },
  {
   "cell_type": "code",
   "execution_count": 79,
   "metadata": {},
   "outputs": [
    {
     "name": "stdout",
     "output_type": "stream",
     "text": [
      "Objeto da classe criado.\n"
     ]
    }
   ],
   "source": [
    "ola_classe(a)"
   ]
  },
  {
   "cell_type": "markdown",
   "metadata": {},
   "source": [
    "# Geradores"
   ]
  },
  {
   "cell_type": "code",
   "execution_count": 80,
   "metadata": {},
   "outputs": [],
   "source": [
    "gerador = (x*x for x in range(3))"
   ]
  },
  {
   "cell_type": "code",
   "execution_count": 81,
   "metadata": {},
   "outputs": [
    {
     "data": {
      "text/plain": [
       "generator"
      ]
     },
     "execution_count": 81,
     "metadata": {},
     "output_type": "execute_result"
    }
   ],
   "source": [
    "type(gerador)"
   ]
  },
  {
   "cell_type": "code",
   "execution_count": 82,
   "metadata": {},
   "outputs": [
    {
     "name": "stdout",
     "output_type": "stream",
     "text": [
      "0\n",
      "1\n",
      "4\n"
     ]
    }
   ],
   "source": [
    "for valor in gerador:\n",
    "    print(valor)"
   ]
  },
  {
   "cell_type": "code",
   "execution_count": 98,
   "metadata": {},
   "outputs": [],
   "source": [
    "def gen_func(x):\n",
    "    for i in range(x):\n",
    "        yield i"
   ]
  },
  {
   "cell_type": "code",
   "execution_count": 99,
   "metadata": {},
   "outputs": [],
   "source": [
    "a = gen_func(5)"
   ]
  },
  {
   "cell_type": "code",
   "execution_count": 100,
   "metadata": {},
   "outputs": [
    {
     "data": {
      "text/plain": [
       "generator"
      ]
     },
     "execution_count": 100,
     "metadata": {},
     "output_type": "execute_result"
    }
   ],
   "source": [
    "type(a)"
   ]
  },
  {
   "cell_type": "code",
   "execution_count": 101,
   "metadata": {},
   "outputs": [
    {
     "name": "stdout",
     "output_type": "stream",
     "text": [
      "0\n",
      "1\n",
      "2\n",
      "3\n"
     ]
    }
   ],
   "source": [
    "print(next(a))\n",
    "print(next(a))\n",
    "print(next(a))\n",
    "print(next(a))"
   ]
  },
  {
   "cell_type": "code",
   "execution_count": 110,
   "metadata": {},
   "outputs": [],
   "source": [
    "def inf_sequence():\n",
    "    num = 0\n",
    "    while num<200:\n",
    "        yield num\n",
    "        num += 1"
   ]
  },
  {
   "cell_type": "code",
   "execution_count": 111,
   "metadata": {},
   "outputs": [],
   "source": [
    "gera = inf_sequence()"
   ]
  },
  {
   "cell_type": "code",
   "execution_count": 113,
   "metadata": {},
   "outputs": [],
   "source": [
    "for i in gera:\n",
    "    print(i, end = \" \")"
   ]
  },
  {
   "cell_type": "code",
   "execution_count": null,
   "metadata": {},
   "outputs": [],
   "source": []
  }
 ],
 "metadata": {
  "kernelspec": {
   "display_name": "Python 3.10.5 64-bit",
   "language": "python",
   "name": "python3"
  },
  "language_info": {
   "codemirror_mode": {
    "name": "ipython",
    "version": 3
   },
   "file_extension": ".py",
   "mimetype": "text/x-python",
   "name": "python",
   "nbconvert_exporter": "python",
   "pygments_lexer": "ipython3",
   "version": "3.10.5"
  },
  "orig_nbformat": 4,
  "vscode": {
   "interpreter": {
    "hash": "26de051ba29f2982a8de78e945f0abaf191376122a1563185a90213a26c5da77"
   }
  }
 },
 "nbformat": 4,
 "nbformat_minor": 2
}
