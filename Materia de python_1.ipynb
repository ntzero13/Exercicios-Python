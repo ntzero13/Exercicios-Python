{
 "cells": [
  {
   "cell_type": "markdown",
   "metadata": {},
   "source": [
    "# Truthy e Falsy"
   ]
  },
  {
   "cell_type": "code",
   "execution_count": 15,
   "metadata": {},
   "outputs": [],
   "source": [
    "num = 0\n",
    "lista =[]\n",
    "tuplo = ()\n",
    "dicionarios = {}\n",
    "sets = set()\n",
    "string= \"\""
   ]
  },
  {
   "cell_type": "code",
   "execution_count": 16,
   "metadata": {},
   "outputs": [
    {
     "name": "stdout",
     "output_type": "stream",
     "text": [
      "set()\n",
      "True\n"
     ]
    }
   ],
   "source": [
    "print(sets)\n",
    "print(not(num))"
   ]
  },
  {
   "cell_type": "code",
   "execution_count": 17,
   "metadata": {},
   "outputs": [
    {
     "name": "stdout",
     "output_type": "stream",
     "text": [
      "Em branco\n"
     ]
    }
   ],
   "source": [
    "if not(num):\n",
    "    print(\"Em branco\")\n",
    "else:\n",
    "    print(\"preenchido\")"
   ]
  },
  {
   "cell_type": "code",
   "execution_count": 18,
   "metadata": {},
   "outputs": [
    {
     "name": "stdout",
     "output_type": "stream",
     "text": [
      "Em branco\n"
     ]
    }
   ],
   "source": [
    "if not(num) == True:\n",
    "    print(\"Em branco\")\n",
    "else:\n",
    "    print(\"preenchido\")"
   ]
  },
  {
   "cell_type": "code",
   "execution_count": 19,
   "metadata": {},
   "outputs": [
    {
     "name": "stdout",
     "output_type": "stream",
     "text": [
      "Em branco\n"
     ]
    }
   ],
   "source": [
    "if not(lista):\n",
    "    print(\"Em branco\")\n",
    "else:\n",
    "    print(\"preenchido\")"
   ]
  },
  {
   "cell_type": "code",
   "execution_count": 20,
   "metadata": {},
   "outputs": [
    {
     "data": {
      "text/plain": [
       "False"
      ]
     },
     "execution_count": 20,
     "metadata": {},
     "output_type": "execute_result"
    }
   ],
   "source": [
    "bool(string)"
   ]
  },
  {
   "cell_type": "code",
   "execution_count": 21,
   "metadata": {},
   "outputs": [
    {
     "name": "stdout",
     "output_type": "stream",
     "text": [
      "Em branco\n"
     ]
    }
   ],
   "source": [
    "if bool(string):\n",
    "    print(\"preenchido\")\n",
    "else:\n",
    "    print(\"Em branco\")"
   ]
  },
  {
   "cell_type": "markdown",
   "metadata": {},
   "source": [
    "# Herança multipla"
   ]
  },
  {
   "cell_type": "code",
   "execution_count": 22,
   "metadata": {},
   "outputs": [],
   "source": [
    "class Pai:\n",
    "    def __init__(self, genero):\n",
    "        self.genero = genero\n",
    "        print(\"Classe pai\")\n",
    "\n",
    "    def cromossomo(self):\n",
    "        if(self.genero==\"F\"):\n",
    "            print(\"X\")\n",
    "        else:\n",
    "            print(\"Y\")\n",
    "class Mae:\n",
    "    def __init__(self):\n",
    "        print(\"Classe mae\")\n",
    "\n",
    "    def cromossomo(self):\n",
    "        print(\"X\")\n",
    "\n",
    "class filho(Mae,Pai):\n",
    "    genero=\"F\"\n",
    "    def __init__(self, gen):\n",
    "        self.p=Pai(gen)\n",
    "        self.m=Mae()\n",
    "        if(self.genero==gen):\n",
    "            print(\"Mulher\")\n",
    "        else:\n",
    "            print(\"Homem\")\n",
    "            self.genero=gen\n",
    "    def mostraCromossomo(self):\n",
    "        self.m.cromossomo()\n",
    "        self.p.cromossomo()\n",
    "         "
   ]
  },
  {
   "cell_type": "code",
   "execution_count": 23,
   "metadata": {},
   "outputs": [
    {
     "name": "stdout",
     "output_type": "stream",
     "text": [
      "Classe pai\n",
      "Classe mae\n",
      "Homem\n"
     ]
    }
   ],
   "source": [
    "d=filho(\"M\")"
   ]
  },
  {
   "cell_type": "code",
   "execution_count": 24,
   "metadata": {},
   "outputs": [
    {
     "name": "stdout",
     "output_type": "stream",
     "text": [
      "X\n",
      "Y\n"
     ]
    }
   ],
   "source": [
    "d.mostraCromossomo()"
   ]
  },
  {
   "cell_type": "code",
   "execution_count": 25,
   "metadata": {},
   "outputs": [],
   "source": [
    "from difflib import diff_bytes\n",
    "\n",
    "\n",
    "class A:\n",
    "    def __init__(self):\n",
    "        print(\"Classe A\")\n",
    "    \n",
    "    def letra(self):\n",
    "        print(\"A\")\n",
    "    \n",
    "class B:\n",
    "    def __init__(self):\n",
    "        print(\"Classe B\")\n",
    "\n",
    "    def letra(self):\n",
    "        print(\"B\")\n",
    "    \n",
    "class C:\n",
    "    def __init__(self):\n",
    "        print(\"Classe C\")\n",
    "\n",
    "    def letra(self):\n",
    "        print(\"C\")"
   ]
  },
  {
   "cell_type": "code",
   "execution_count": 26,
   "metadata": {},
   "outputs": [],
   "source": [
    "class D(C,B,A):\n",
    "    def __init__(self):\n",
    "        print(\"Classe D\")\n",
    "    def letrasAnteriores(self):\n",
    "        A.letra(self)\n",
    "        B.letra(self)\n",
    "        C.letra(self)"
   ]
  },
  {
   "cell_type": "code",
   "execution_count": 27,
   "metadata": {},
   "outputs": [
    {
     "name": "stdout",
     "output_type": "stream",
     "text": [
      "Classe D\n"
     ]
    }
   ],
   "source": [
    "d=D()"
   ]
  },
  {
   "cell_type": "code",
   "execution_count": 28,
   "metadata": {},
   "outputs": [
    {
     "name": "stdout",
     "output_type": "stream",
     "text": [
      "A\n",
      "B\n",
      "C\n"
     ]
    }
   ],
   "source": [
    "d.letrasAnteriores()"
   ]
  },
  {
   "cell_type": "markdown",
   "metadata": {},
   "source": [
    "# metodos especiais promaçao orientada a objetos"
   ]
  },
  {
   "cell_type": "code",
   "execution_count": 89,
   "metadata": {},
   "outputs": [
    {
     "name": "stdout",
     "output_type": "stream",
     "text": [
      "Livro destruido\n"
     ]
    }
   ],
   "source": [
    "class Livro:\n",
    "    def __init__(self, titulo, autor, paginas):\n",
    "        print(\"Livro criado\")\n",
    "        self.titulo=titulo\n",
    "        self.autor = autor\n",
    "        self.paginas = paginas\n",
    "    def __str__(self):\n",
    "        return \"Programaçao python\" \n",
    "    \n",
    "    def __len__(self):\n",
    "        return self.paginas  \n",
    "    \n",
    "   # def __del__(self):\n",
    "    #    print(\"Livro destruido\") \n",
    "\n",
    "    def __eq__(self, paginas):\n",
    "        return self.paginas == paginas.paginas "
   ]
  },
  {
   "cell_type": "code",
   "execution_count": 90,
   "metadata": {},
   "outputs": [
    {
     "name": "stdout",
     "output_type": "stream",
     "text": [
      "Livro criado\n"
     ]
    }
   ],
   "source": [
    "livro=Livro(\"Python\", \"Guido\", 1000)"
   ]
  },
  {
   "cell_type": "code",
   "execution_count": 91,
   "metadata": {},
   "outputs": [
    {
     "name": "stdout",
     "output_type": "stream",
     "text": [
      "Programaçao python\n"
     ]
    }
   ],
   "source": [
    "print(livro)"
   ]
  },
  {
   "cell_type": "code",
   "execution_count": 92,
   "metadata": {},
   "outputs": [
    {
     "data": {
      "text/plain": [
       "1000"
      ]
     },
     "execution_count": 92,
     "metadata": {},
     "output_type": "execute_result"
    }
   ],
   "source": [
    "len(livro)"
   ]
  },
  {
   "cell_type": "code",
   "execution_count": 93,
   "metadata": {},
   "outputs": [],
   "source": [
    "del livro"
   ]
  },
  {
   "cell_type": "code",
   "execution_count": 94,
   "metadata": {},
   "outputs": [
    {
     "name": "stdout",
     "output_type": "stream",
     "text": [
      "Livro criado\n"
     ]
    },
    {
     "ename": "TypeError",
     "evalue": "'Livro' object is not callable",
     "output_type": "error",
     "traceback": [
      "\u001b[1;31m---------------------------------------------------------------------------\u001b[0m",
      "\u001b[1;31mTypeError\u001b[0m                                 Traceback (most recent call last)",
      "Cell \u001b[1;32mIn [94], line 2\u001b[0m\n\u001b[0;32m      1\u001b[0m livro\u001b[38;5;241m=\u001b[39m Livro(\u001b[38;5;124m\"\u001b[39m\u001b[38;5;124mpython\u001b[39m\u001b[38;5;124m\"\u001b[39m, \u001b[38;5;124m\"\u001b[39m\u001b[38;5;124mGuido\u001b[39m\u001b[38;5;124m\"\u001b[39m, \u001b[38;5;241m1000\u001b[39m)\n\u001b[1;32m----> 2\u001b[0m livro1\u001b[38;5;241m=\u001b[39m\u001b[43mlivro\u001b[49m\u001b[43m(\u001b[49m\u001b[38;5;124;43m\"\u001b[39;49m\u001b[38;5;124;43mPython\u001b[39;49m\u001b[38;5;124;43m\"\u001b[39;49m\u001b[43m,\u001b[49m\u001b[43m \u001b[49m\u001b[38;5;124;43m\"\u001b[39;49m\u001b[38;5;124;43mGuido\u001b[39;49m\u001b[38;5;124;43m\"\u001b[39;49m\u001b[43m,\u001b[49m\u001b[38;5;241;43m1000\u001b[39;49m\u001b[43m)\u001b[49m\n",
      "\u001b[1;31mTypeError\u001b[0m: 'Livro' object is not callable"
     ]
    }
   ],
   "source": [
    "livro= Livro(\"python\", \"Guido\", 1000)\n",
    "livro1=livro(\"Python\", \"Guido\",1000)"
   ]
  },
  {
   "cell_type": "code",
   "execution_count": null,
   "metadata": {},
   "outputs": [],
   "source": []
  }
 ],
 "metadata": {
  "kernelspec": {
   "display_name": "Python 3.10.5 64-bit",
   "language": "python",
   "name": "python3"
  },
  "language_info": {
   "codemirror_mode": {
    "name": "ipython",
    "version": 3
   },
   "file_extension": ".py",
   "mimetype": "text/x-python",
   "name": "python",
   "nbconvert_exporter": "python",
   "pygments_lexer": "ipython3",
   "version": "3.10.5"
  },
  "orig_nbformat": 4,
  "vscode": {
   "interpreter": {
    "hash": "26de051ba29f2982a8de78e945f0abaf191376122a1563185a90213a26c5da77"
   }
  }
 },
 "nbformat": 4,
 "nbformat_minor": 2
}
