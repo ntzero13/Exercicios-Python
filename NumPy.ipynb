{
 "cells": [
  {
   "cell_type": "markdown",
   "id": "3da49e9f",
   "metadata": {},
   "source": [
    "Biblioteca NumPY - sigla np"
   ]
  },
  {
   "cell_type": "code",
   "execution_count": null,
   "id": "51346230",
   "metadata": {},
   "outputs": [],
   "source": [
    "# Depois de importar a biblioteca uma primeira vez para o notebook n é preciso voltar a importar"
   ]
  },
  {
   "cell_type": "code",
   "execution_count": 3,
   "id": "0bb58f72",
   "metadata": {},
   "outputs": [
    {
     "ename": "ModuleNotFoundError",
     "evalue": "No module named 'numpy'",
     "output_type": "error",
     "traceback": [
      "\u001b[1;31m---------------------------------------------------------------------------\u001b[0m",
      "\u001b[1;31mModuleNotFoundError\u001b[0m                       Traceback (most recent call last)",
      "Cell \u001b[1;32mIn [3], line 1\u001b[0m\n\u001b[1;32m----> 1\u001b[0m \u001b[38;5;28;01mimport\u001b[39;00m \u001b[38;5;21;01mnumpy\u001b[39;00m \u001b[38;5;28;01mas\u001b[39;00m \u001b[38;5;21;01mnp\u001b[39;00m\n\u001b[0;32m      3\u001b[0m \u001b[38;5;66;03m#Cria uma matriz com 3 elementos\u001b[39;00m\n\u001b[0;32m      5\u001b[0m a \u001b[38;5;241m=\u001b[39m np\u001b[38;5;241m.\u001b[39marray([\u001b[38;5;241m1\u001b[39m,\u001b[38;5;124m\"\u001b[39m\u001b[38;5;124mr\u001b[39m\u001b[38;5;124m\"\u001b[39m,\u001b[38;5;241m3\u001b[39m])\n",
      "\u001b[1;31mModuleNotFoundError\u001b[0m: No module named 'numpy'"
     ]
    }
   ],
   "source": [
    "import numpy as np\n",
    "\n",
    "#Cria uma matriz com 3 elementos\n",
    "\n",
    "a = np.array([1,\"r\",3])"
   ]
  },
  {
   "cell_type": "code",
   "execution_count": null,
   "id": "269fa948",
   "metadata": {},
   "outputs": [
    {
     "name": "stdout",
     "output_type": "stream",
     "text": [
      "<class 'numpy.ndarray'>\n"
     ]
    }
   ],
   "source": [
    "# Tipo variável a\n",
    "\n",
    "print(type(a))"
   ]
  },
  {
   "cell_type": "code",
   "execution_count": null,
   "id": "988afbb8",
   "metadata": {},
   "outputs": [
    {
     "name": "stdout",
     "output_type": "stream",
     "text": [
      "(3,)\n"
     ]
    }
   ],
   "source": [
    "# imprime o formato da variável. 3 linhas e nenhuma coluna.(linhas,colunas)\n",
    "print(a.shape)"
   ]
  },
  {
   "cell_type": "code",
   "execution_count": null,
   "id": "edbc7c7d",
   "metadata": {},
   "outputs": [
    {
     "name": "stdout",
     "output_type": "stream",
     "text": [
      "1 r 3\n"
     ]
    }
   ],
   "source": [
    "# Imprime os valores\n",
    "\n",
    "print(a[0], a[1], a[2])"
   ]
  },
  {
   "cell_type": "code",
   "execution_count": null,
   "id": "0530e1c8",
   "metadata": {},
   "outputs": [
    {
     "name": "stdout",
     "output_type": "stream",
     "text": [
      "['5' 'r' '3']\n"
     ]
    }
   ],
   "source": [
    "# Altera o valor de um elemento da matriz\n",
    "\n",
    "a[0] = 5\n",
    "\n",
    "print(a)"
   ]
  },
  {
   "cell_type": "code",
   "execution_count": null,
   "id": "c5f5a5ed",
   "metadata": {},
   "outputs": [],
   "source": [
    "# Cria uma matriz bidimensional\n",
    "\n",
    "b = np.array([[1,2,3],[4,5,6]])"
   ]
  },
  {
   "cell_type": "code",
   "execution_count": null,
   "id": "b21b9774",
   "metadata": {},
   "outputs": [
    {
     "name": "stdout",
     "output_type": "stream",
     "text": [
      "(2, 3)\n"
     ]
    }
   ],
   "source": [
    "# Imprime o formato da variável\n",
    "print(b.shape)"
   ]
  },
  {
   "cell_type": "code",
   "execution_count": null,
   "id": "0541fb69",
   "metadata": {},
   "outputs": [
    {
     "name": "stdout",
     "output_type": "stream",
     "text": [
      "1 2 3 4 5 6\n"
     ]
    }
   ],
   "source": [
    "#Imprime os valores\n",
    "print(b[0,0], b[0,1], b[0,2], b[1,0], b[1,1], b[1,2])"
   ]
  },
  {
   "cell_type": "code",
   "execution_count": null,
   "id": "1d81a226",
   "metadata": {},
   "outputs": [
    {
     "name": "stdout",
     "output_type": "stream",
     "text": [
      "5\n",
      "r\n",
      "3\n"
     ]
    }
   ],
   "source": [
    "# Imprime todos os valores vetor unidimensional\n",
    "\n",
    "for i in a:\n",
    "    print(i)"
   ]
  },
  {
   "cell_type": "code",
   "execution_count": null,
   "id": "aa865e2a",
   "metadata": {},
   "outputs": [
    {
     "name": "stdout",
     "output_type": "stream",
     "text": [
      "[1 2 3]\n",
      "[4 5 6]\n"
     ]
    }
   ],
   "source": [
    "# Imprime todos os valores vetor multidimensional\n",
    "\n",
    "for linha in b:\n",
    "    print(linha)"
   ]
  },
  {
   "cell_type": "code",
   "execution_count": null,
   "id": "987ad8e9",
   "metadata": {},
   "outputs": [
    {
     "data": {
      "text/plain": [
       "(3,)"
      ]
     },
     "execution_count": 27,
     "metadata": {},
     "output_type": "execute_result"
    }
   ],
   "source": [
    "# Numeros de linhas e colunas\n",
    "\n",
    "num_linhas, num_colunas = b.shape"
   ]
  },
  {
   "cell_type": "code",
   "execution_count": null,
   "id": "25dc6aea",
   "metadata": {},
   "outputs": [],
   "source": [
    "#matrizes unidimensionais sao sempre linhas em python"
   ]
  },
  {
   "cell_type": "code",
   "execution_count": null,
   "id": "4216209c",
   "metadata": {},
   "outputs": [
    {
     "ename": "TypeError",
     "evalue": "'tuple' object cannot be interpreted as an integer",
     "output_type": "error",
     "traceback": [
      "\u001b[1;31m---------------------------------------------------------------------------\u001b[0m",
      "\u001b[1;31mTypeError\u001b[0m                                 Traceback (most recent call last)",
      "Input \u001b[1;32mIn [33]\u001b[0m, in \u001b[0;36m<cell line: 3>\u001b[1;34m()\u001b[0m\n\u001b[0;32m      1\u001b[0m \u001b[38;5;66;03m# Imprimir cada um dos elementos automaticamente\u001b[39;00m\n\u001b[1;32m----> 3\u001b[0m \u001b[38;5;28;01mfor\u001b[39;00m i \u001b[38;5;129;01min\u001b[39;00m \u001b[38;5;28;43mrange\u001b[39;49m\u001b[43m(\u001b[49m\u001b[38;5;241;43m0\u001b[39;49m\u001b[43m,\u001b[49m\u001b[43mnum_linhas\u001b[49m\u001b[43m)\u001b[49m:\n\u001b[0;32m      4\u001b[0m     \u001b[38;5;28;01mfor\u001b[39;00m j \u001b[38;5;129;01min\u001b[39;00m \u001b[38;5;28mrange\u001b[39m(\u001b[38;5;241m0\u001b[39m,num_colunas):\n\u001b[0;32m      5\u001b[0m         \u001b[38;5;28mprint\u001b[39m(\u001b[38;5;124m\"\u001b[39m\u001b[38;5;124mPosiçoes vector:\u001b[39m\u001b[38;5;124m\"\u001b[39m, i, j, \u001b[38;5;124m\"\u001b[39m\u001b[38;5;124mValor:\u001b[39m\u001b[38;5;124m\"\u001b[39m, b[i][j])\n",
      "\u001b[1;31mTypeError\u001b[0m: 'tuple' object cannot be interpreted as an integer"
     ]
    }
   ],
   "source": [
    "# Imprimir cada um dos elementos automaticamente\n",
    "\n",
    "for i in range(0,num_linhas):\n",
    "    for j in range(0,num_colunas):\n",
    "        print(\"Posiçoes vector:\", i, j, \"Valor:\", b[i][j])"
   ]
  },
  {
   "cell_type": "markdown",
   "id": "434dad3f",
   "metadata": {},
   "source": [
    "Tipos de dados\n",
    "No numpy todos os elementos de uma matriz/ndarray são de um determinado tipo de dados."
   ]
  },
  {
   "cell_type": "code",
   "execution_count": null,
   "id": "63792851",
   "metadata": {},
   "outputs": [
    {
     "name": "stdout",
     "output_type": "stream",
     "text": [
      "float64\n"
     ]
    }
   ],
   "source": [
    "x = np.array([1.0, 2.0])\n",
    "print(x.dtype)"
   ]
  },
  {
   "cell_type": "code",
   "execution_count": null,
   "id": "19be1f7c",
   "metadata": {},
   "outputs": [
    {
     "name": "stdout",
     "output_type": "stream",
     "text": [
      "float64\n"
     ]
    }
   ],
   "source": [
    "x = np.array([1,2], dtype=np.float64)\n",
    "print(x.dtype)"
   ]
  },
  {
   "cell_type": "markdown",
   "id": "a3c00c63",
   "metadata": {},
   "source": [
    "Criação de matrizes/ndarray\n",
    "\n",
    "A biblioteca NumPy fornece muitas formas de criar matrizes/ndarray."
   ]
  },
  {
   "cell_type": "code",
   "execution_count": null,
   "id": "eaa8525f",
   "metadata": {},
   "outputs": [
    {
     "name": "stdout",
     "output_type": "stream",
     "text": [
      "[0 1 2 3 4]\n"
     ]
    }
   ],
   "source": [
    "# Vetor de 5 elementos seguidos\n",
    "\n",
    "print(np.arange(5))"
   ]
  },
  {
   "cell_type": "code",
   "execution_count": null,
   "id": "bccdbad8",
   "metadata": {},
   "outputs": [
    {
     "name": "stdout",
     "output_type": "stream",
     "text": [
      "[1.   1.25 1.5  1.75 2.  ]\n"
     ]
    }
   ],
   "source": [
    "# Vetor de 5 elementos (igualmente espaçados), entre 1 e 2, dividido em 5 partes. pode andar para tras ou para a frente, negativos etc\n",
    "\n",
    "print(np.linspace(1,2,5))"
   ]
  },
  {
   "cell_type": "code",
   "execution_count": null,
   "id": "4592f4bf",
   "metadata": {},
   "outputs": [
    {
     "name": "stdout",
     "output_type": "stream",
     "text": [
      "[0. 0. 0. 0. 0.]\n"
     ]
    }
   ],
   "source": [
    "#Vetor de 5 elementos iguais a 0s\n",
    "\n",
    "print(np.zeros(5))"
   ]
  },
  {
   "cell_type": "code",
   "execution_count": null,
   "id": "3f235933",
   "metadata": {},
   "outputs": [
    {
     "name": "stdout",
     "output_type": "stream",
     "text": [
      "[[0. 0. 0. 0.]\n",
      " [0. 0. 0. 0.]\n",
      " [0. 0. 0. 0.]\n",
      " [0. 0. 0. 0.]\n",
      " [0. 0. 0. 0.]]\n"
     ]
    }
   ],
   "source": [
    "# Matriz 2x2 de zeros\n",
    "\n",
    "print(np.zeros((5,4)))"
   ]
  },
  {
   "cell_type": "code",
   "execution_count": null,
   "id": "3bbf13c9",
   "metadata": {},
   "outputs": [
    {
     "name": "stdout",
     "output_type": "stream",
     "text": [
      "[[1. 1. 1.]\n",
      " [1. 1. 1.]]\n"
     ]
    }
   ],
   "source": [
    "# Matriz 2x3 de 1´s\n",
    "\n",
    "print(np.ones((2,3)))"
   ]
  },
  {
   "cell_type": "code",
   "execution_count": null,
   "id": "ef6c2e47",
   "metadata": {},
   "outputs": [
    {
     "name": "stdout",
     "output_type": "stream",
     "text": [
      "[[7 7]\n",
      " [7 7]\n",
      " [7 7]\n",
      " [7 7]]\n"
     ]
    }
   ],
   "source": [
    "# Matriz 4x2 de setes(7)\n",
    "print(np.full((4,2),7))"
   ]
  },
  {
   "cell_type": "code",
   "execution_count": null,
   "id": "da78d13d",
   "metadata": {},
   "outputs": [
    {
     "name": "stdout",
     "output_type": "stream",
     "text": [
      "[[1. 0. 0. 0. 0.]\n",
      " [0. 1. 0. 0. 0.]\n",
      " [0. 0. 1. 0. 0.]\n",
      " [0. 0. 0. 1. 0.]\n",
      " [0. 0. 0. 0. 1.]]\n"
     ]
    }
   ],
   "source": [
    "# Matriz identidade 2x2. matriz em que os 1´s ficam na diagonal\n",
    "\n",
    "print(np.eye(5))"
   ]
  },
  {
   "cell_type": "markdown",
   "id": "77917625",
   "metadata": {},
   "source": [
    "Criação de vetores de diferentes dimensões\n"
   ]
  },
  {
   "cell_type": "code",
   "execution_count": null,
   "id": "8fa600b8",
   "metadata": {},
   "outputs": [
    {
     "name": "stdout",
     "output_type": "stream",
     "text": [
      "0\n",
      "1\n",
      "2\n",
      "3\n"
     ]
    }
   ],
   "source": [
    "a = np.array(42)\n",
    "b = np.array([1,2,3,4,5])\n",
    "c = np.array([[1,2,3], [4,5,6]])\n",
    "d = np.array([[[1,2,3,], [4,5,6], [1,2,3], [4,5,6]]])\n",
    "\n",
    "print(a.ndim)\n",
    "print(b.ndim)\n",
    "print(c.ndim)\n",
    "print(d.ndim)\n",
    "\n"
   ]
  },
  {
   "cell_type": "markdown",
   "id": "66c122d3",
   "metadata": {},
   "source": [
    "Criação matrizes com valores aleatorios\n",
    "\n",
    "O NumPy permite a criação de matrizes com valores aleatorios que podem seguir uma das muitas distribuições disponiveis no NumPy(bet, binomial, qui-quadrado...)\n",
    "\n",
    "exemplos"
   ]
  },
  {
   "cell_type": "code",
   "execution_count": null,
   "id": "1f07c464",
   "metadata": {},
   "outputs": [],
   "source": []
  },
  {
   "cell_type": "code",
   "execution_count": null,
   "id": "b8508685",
   "metadata": {},
   "outputs": [
    {
     "name": "stdout",
     "output_type": "stream",
     "text": [
      "matriz de valores aleatorios entrre 0 e 1, com base numa distribuição uniforme\n",
      "[[0.19566264 0.30137681 0.94350601 0.48591091 0.6079489 ]\n",
      " [0.80655541 0.28613394 0.74063533 0.87020334 0.54894314]\n",
      " [0.38027865 0.02467682 0.9628729  0.67889958 0.55054989]]\n"
     ]
    }
   ],
   "source": [
    "# Geração de uma matriz/ndarray(3*5) com valores aleatorios com base na\n",
    "# distribuição uniforme com valores entre [0,1]\n",
    "\n",
    "e = np.random.random((3,5))\n",
    "print (\"matriz de valores aleatorios entrre 0 e 1, com base numa distribuição uniforme\")\n",
    "print(e)"
   ]
  },
  {
   "cell_type": "code",
   "execution_count": null,
   "id": "8ed6d01e",
   "metadata": {},
   "outputs": [
    {
     "ename": "SyntaxError",
     "evalue": "invalid syntax (2387524297.py, line 4)",
     "output_type": "error",
     "traceback": [
      "\u001b[1;36m  Input \u001b[1;32mIn [54]\u001b[1;36m\u001b[0m\n\u001b[1;33m    print(\"Desvio padrão(Raiz Quadrada((b-a)^2/12)): \" + str(np.std(e)))\u001b[0m\n\u001b[1;37m    ^\u001b[0m\n\u001b[1;31mSyntaxError\u001b[0m\u001b[1;31m:\u001b[0m invalid syntax\n"
     ]
    }
   ],
   "source": [
    "# Para verificar pode-se calcular a média e o desvio padrao dos valores\n",
    "\n",
    "print(\"Média (a+b)/2, em que a = 0 e b = 1: \" + str(np.mean(e)))\n",
    "print(\"Desvio padrão(Raiz Quadrada((b-a)^2/12)): \" + str(np.std(e)))\n",
    "print()      "
   ]
  },
  {
   "cell_type": "code",
   "execution_count": null,
   "id": "2c145e2e",
   "metadata": {},
   "outputs": [
    {
     "name": "stdout",
     "output_type": "stream",
     "text": [
      "Matriz de valores aleatorios entre 0 e 1, com base numa distribuição normal\n",
      "[[-0.83070543 -0.67820087  0.93484858  1.07742949  1.54236681]\n",
      " [-0.05758711  0.04803822  0.07046872  0.32434101 -0.10132927]\n",
      " [ 0.1135524  -0.6230589  -1.70855875 -1.2786591   0.23942863]]\n"
     ]
    }
   ],
   "source": [
    "#Geração de uma matriz/ndarray(3*5) com valores aleatorios com base \n",
    "# na distribuição normal com  media 0 e desvio padrao 1\n",
    "# o primeiro parametro é media, o segundo o desvio padrao e o terceiro a matriz\n",
    "\n",
    "f = np.random.normal(0,1,(3,5))\n",
    "print(\"Matriz de valores aleatorios entre 0 e 1, com base numa distribuição normal\")\n",
    "print(f)"
   ]
  },
  {
   "cell_type": "code",
   "execution_count": null,
   "id": "4a49f9b9",
   "metadata": {},
   "outputs": [
    {
     "name": "stdout",
     "output_type": "stream",
     "text": [
      "Média(0) -0.06184170516781303\n",
      "Desvio Padrão (1): 0.8424160783917075\n",
      "Nota: com poucos calores é provável que a media e o desvio padrao nao sejam 0 e 1, Correr para uma matriz de maiores dimensões\n",
      "\n"
     ]
    }
   ],
   "source": [
    "# para verificar e calcular a media e o desvio padrao dos valores\n",
    "\n",
    "print(\"Média(0) \" + str(np.mean(f)))\n",
    "print(\"Desvio Padrão (1): \" + str(np.std(f)))\n",
    "print(\"Nota: com poucos calores é provável que a media e o desvio padrao nao sejam 0 e 1, Correr para uma matriz de maiores dimensões\")\n",
    "print()\n"
   ]
  },
  {
   "cell_type": "code",
   "execution_count": null,
   "id": "9240672f",
   "metadata": {},
   "outputs": [
    {
     "name": "stdout",
     "output_type": "stream",
     "text": [
      "Matriz de valores aleatorios entre 0,1 com base numa distribuição exponencial\n",
      "[[0.1057099  0.00484197 0.10943402 0.00685898 0.05702682]\n",
      " [0.02745974 0.37446266 0.00536593 0.16260388 0.76718098]\n",
      " [0.0932474  0.14374759 0.16811925 0.00999024 0.00603535]]\n"
     ]
    }
   ],
   "source": [
    "# Geração de uma matriz/ndarray (3x5) com valores aleatorios com base na\n",
    "# distribuição exponencial. O primeiro padrao é a escala\n",
    "# (inverso da taxa, escala = 1/lambda) e o segundo a matriz lambda1 = 5\n",
    "\n",
    "lambda1 = 5\n",
    "\n",
    "g = np.random.exponential(1/lambda1,(3,5))\n",
    "print(\"Matriz de valores aleatorios entre 0,1 com base numa distribuição exponencial\")\n",
    "print(g)"
   ]
  },
  {
   "cell_type": "code",
   "execution_count": null,
   "id": "369f0b89",
   "metadata": {},
   "outputs": [
    {
     "name": "stdout",
     "output_type": "stream",
     "text": [
      "Média (1/lambda): 0.13613898125724969\n",
      "Desvio padrao (Raiz quadrada(1/lambda^2)): 0.19360374533388341\n",
      "Nota: caso a media e o desvio padrao nap sejam proximos dos valores esperados, correr para uma matriz maior\n"
     ]
    }
   ],
   "source": [
    "# Para verificar que esta certo pode se calcular a media e a variancia dos valores\n",
    "#print (\"lambda:  + str(lambda1))\n",
    "print(\"Média (1/lambda): \" + str(np.mean(g)))\n",
    "print(\"Desvio padrao (Raiz quadrada(1/lambda^2)): \" + str(np.std(g)))\n",
    "print(\"Nota: caso a media e o desvio padrao nap sejam proximos dos valores esperados, correr para uma matriz maior\")"
   ]
  },
  {
   "cell_type": "markdown",
   "id": "897bc4c9",
   "metadata": {},
   "source": [
    "Slicing de vetores n dimensionais\n",
    "\n",
    "tambem permite o slicing, visto no notebook \"introdução ao Python\""
   ]
  },
  {
   "cell_type": "code",
   "execution_count": null,
   "id": "a9179c5d",
   "metadata": {},
   "outputs": [
    {
     "name": "stdout",
     "output_type": "stream",
     "text": [
      "[[ 1  2  3  4]\n",
      " [ 5  6  7  8]\n",
      " [ 9 10 11 12]]\n",
      "\n",
      "[[1 2 3 4]\n",
      " [5 6 7 8]]\n",
      "\n",
      "[[2 3]\n",
      " [6 7]]\n"
     ]
    }
   ],
   "source": [
    "a = np.array ([[1,2,3,4], [5,6,7,8], [9,10,11,12]])\n",
    "b = a[:2,:]\n",
    "c = a[:2, 1:3]\n",
    "print(a)\n",
    "print()\n",
    "print(b)\n",
    "print()\n",
    "print(c)\n"
   ]
  },
  {
   "cell_type": "code",
   "execution_count": null,
   "id": "9398ea23",
   "metadata": {},
   "outputs": [],
   "source": [
    "e = np.array ([[1,2,3,4], [5,6,7,8], [9,10,11,12]])"
   ]
  },
  {
   "cell_type": "code",
   "execution_count": null,
   "id": "40ddf697",
   "metadata": {},
   "outputs": [
    {
     "name": "stdout",
     "output_type": "stream",
     "text": [
      "[5 6 7 8] (4,)\n"
     ]
    }
   ],
   "source": [
    "# Retira a segunda linha para uma matriz unidemensional\n",
    "l1_d1 = e[1,:]\n",
    "\n",
    "#Imprime~os valores da segunda linha e respectivo formato\n",
    "print(l1_d1, l1_d1.shape)"
   ]
  },
  {
   "cell_type": "code",
   "execution_count": null,
   "id": "d888d5ca",
   "metadata": {},
   "outputs": [
    {
     "name": "stdout",
     "output_type": "stream",
     "text": [
      "[[ 2]\n",
      " [ 6]\n",
      " [10]] (3, 1)\n"
     ]
    }
   ],
   "source": [
    "# Retira a segunda linha para uma matriz bidimensional\n",
    "\n",
    "c1_d2 = e[:, 1:2]\n",
    "print(c1_d2, c1_d2.shape)"
   ]
  },
  {
   "cell_type": "markdown",
   "id": "2d940ec8",
   "metadata": {},
   "source": [
    "Indexação de matrizes/ndarray\n",
    "A biblioteca NumPy permite seleccionar elementos de uma matriz/ndarray tendo por base outras matrizes e expressoes boleanas"
   ]
  },
  {
   "cell_type": "code",
   "execution_count": null,
   "id": "a91a63b8",
   "metadata": {},
   "outputs": [
    {
     "name": "stdout",
     "output_type": "stream",
     "text": [
      "Matriz a de 3x2:\n",
      "[[1 2]\n",
      " [3 4]\n",
      " [5 6]]\n"
     ]
    }
   ],
   "source": [
    "#Indexação de matrizes utilizando outras matrizes\n",
    "\n",
    "a = np.array([[1,2], [3,4], [5,6]])\n",
    "print(\"Matriz a de 3x2:\")\n",
    "print(a)"
   ]
  },
  {
   "cell_type": "code",
   "execution_count": null,
   "id": "807335ec",
   "metadata": {},
   "outputs": [
    {
     "name": "stdout",
     "output_type": "stream",
     "text": [
      "[1 4 5]\n"
     ]
    }
   ],
   "source": [
    "# Indexação utilizando uma matriz de posições a mostrar\n",
    "\n",
    "print(a[[0,1,2], [0,1,0]]) # mostrar os elementos que estao na posição 0,0->1; 1,1->4; 2,0->5"
   ]
  },
  {
   "cell_type": "code",
   "execution_count": null,
   "id": "31ab451e",
   "metadata": {},
   "outputs": [
    {
     "ename": "IndexError",
     "evalue": "index 2 is out of bounds for axis 1 with size 2",
     "output_type": "error",
     "traceback": [
      "\u001b[1;31m---------------------------------------------------------------------------\u001b[0m",
      "\u001b[1;31mIndexError\u001b[0m                                Traceback (most recent call last)",
      "Input \u001b[1;32mIn [68]\u001b[0m, in \u001b[0;36m<cell line: 3>\u001b[1;34m()\u001b[0m\n\u001b[0;32m      1\u001b[0m \u001b[38;5;66;03m# O exemplo acima pode ser conseguido atraves da indicação de cada um dos elementos\u001b[39;00m\n\u001b[1;32m----> 3\u001b[0m \u001b[38;5;28mprint\u001b[39m(np\u001b[38;5;241m.\u001b[39marray([a[\u001b[38;5;241m0\u001b[39m,\u001b[38;5;241m0\u001b[39m], a[\u001b[38;5;241m1\u001b[39m,\u001b[38;5;241m1\u001b[39m], \u001b[43ma\u001b[49m\u001b[43m[\u001b[49m\u001b[38;5;241;43m2\u001b[39;49m\u001b[43m,\u001b[49m\u001b[38;5;241;43m2\u001b[39;49m\u001b[43m]\u001b[49m]))\n",
      "\u001b[1;31mIndexError\u001b[0m: index 2 is out of bounds for axis 1 with size 2"
     ]
    }
   ],
   "source": [
    "# O exemplo acima pode ser conseguido atraves da indicação de cada um dos elementos\n",
    "\n",
    "print(np.array([a[0,0], a[1,1], a[2,0]]))"
   ]
  },
  {
   "cell_type": "code",
   "execution_count": null,
   "id": "b1b04e6d",
   "metadata": {},
   "outputs": [
    {
     "name": "stdout",
     "output_type": "stream",
     "text": [
      "[2 2]\n"
     ]
    }
   ],
   "source": [
    "#Ao utilizar uma matriz de elementos  inteiros para indexação podems reutilziar elementos\n",
    "\n",
    "print(a[[0,0], [1,1]])"
   ]
  },
  {
   "cell_type": "code",
   "execution_count": null,
   "id": "a9925113",
   "metadata": {},
   "outputs": [
    {
     "name": "stdout",
     "output_type": "stream",
     "text": [
      "[[ 1  2  3]\n",
      " [ 4  5  6]\n",
      " [ 7  8  9]\n",
      " [10 11 12]]\n"
     ]
    }
   ],
   "source": [
    "# Alterar os elementos de posições da matriz\n",
    "\n",
    "a = np.array([[1,2,3], [4,5,6], [7,8,9], [10,11,12]])\n",
    "print(a)"
   ]
  },
  {
   "cell_type": "code",
   "execution_count": null,
   "id": "6f190e74",
   "metadata": {},
   "outputs": [
    {
     "data": {
      "text/plain": [
       "array([0, 2, 0, 1])"
      ]
     },
     "execution_count": 71,
     "metadata": {},
     "output_type": "execute_result"
    }
   ],
   "source": [
    "b = np.array([0,2,0,1])\n",
    "b"
   ]
  },
  {
   "cell_type": "code",
   "execution_count": null,
   "id": "660d2775",
   "metadata": {},
   "outputs": [
    {
     "name": "stdout",
     "output_type": "stream",
     "text": [
      "[ 1  6  7 11]\n"
     ]
    }
   ],
   "source": [
    "# Seleccionar um elemento de cada linha utilizando os indices em b\n",
    "\n",
    "print(a[np.arange(4), b])"
   ]
  },
  {
   "cell_type": "code",
   "execution_count": null,
   "id": "7251fa3a",
   "metadata": {},
   "outputs": [
    {
     "name": "stdout",
     "output_type": "stream",
     "text": [
      "[[11  2  3]\n",
      " [ 4  5 16]\n",
      " [17  8  9]\n",
      " [10 21 12]]\n",
      "[0 1 2 3]\n"
     ]
    }
   ],
   "source": [
    "#Alterar um elemento de cada linha utilizando os indices em b\n",
    "\n",
    "a[np.arange(4), b] += 10\n",
    "print(a)\n",
    "print(np.arange(4)) \n",
    "      "
   ]
  },
  {
   "cell_type": "code",
   "execution_count": null,
   "id": "2a9548d3",
   "metadata": {},
   "outputs": [
    {
     "name": "stdout",
     "output_type": "stream",
     "text": [
      "[[False False]\n",
      " [ True  True]\n",
      " [ True  True]]\n",
      "[3 4 5 6]\n",
      "[3 4 5 6]\n",
      "[1 2]\n",
      "[3 4 5 6]\n"
     ]
    }
   ],
   "source": [
    "#indexação  de matrizes utilizando expressoes boleanas\n",
    "# utilizado para seleccionar os elementos de uma matriz\n",
    "#que satisfaçam uma determinada condição\n",
    "\n",
    "a = np.array([[1,2], [3,4], [5,6]])\n",
    "bool_idx = (a > 2)\n",
    "print(bool_idx)\n",
    "print(a[bool_idx])\n",
    "print(a[bool_idx==True])\n",
    "print(a[bool_idx==False])\n",
    "print(a[a > 2])#####"
   ]
  },
  {
   "cell_type": "code",
   "execution_count": null,
   "id": "8384e4a0",
   "metadata": {},
   "outputs": [],
   "source": []
  },
  {
   "cell_type": "code",
   "execution_count": null,
   "id": "8d417ea2",
   "metadata": {},
   "outputs": [],
   "source": []
  },
  {
   "cell_type": "code",
   "execution_count": null,
   "id": "65c85c7f",
   "metadata": {},
   "outputs": [],
   "source": []
  },
  {
   "cell_type": "code",
   "execution_count": null,
   "id": "e01fd6c1",
   "metadata": {},
   "outputs": [],
   "source": []
  },
  {
   "cell_type": "code",
   "execution_count": null,
   "id": "c5efea66",
   "metadata": {},
   "outputs": [],
   "source": []
  },
  {
   "cell_type": "code",
   "execution_count": null,
   "id": "e2a53d59",
   "metadata": {},
   "outputs": [],
   "source": []
  },
  {
   "cell_type": "code",
   "execution_count": null,
   "id": "298094dd",
   "metadata": {},
   "outputs": [],
   "source": []
  },
  {
   "cell_type": "code",
   "execution_count": null,
   "id": "559dbdde",
   "metadata": {},
   "outputs": [],
   "source": []
  },
  {
   "cell_type": "code",
   "execution_count": null,
   "id": "f361a8a7",
   "metadata": {},
   "outputs": [],
   "source": []
  }
 ],
 "metadata": {
  "kernelspec": {
   "display_name": "Python 3.10.5 64-bit",
   "language": "python",
   "name": "python3"
  },
  "language_info": {
   "codemirror_mode": {
    "name": "ipython",
    "version": 3
   },
   "file_extension": ".py",
   "mimetype": "text/x-python",
   "name": "python",
   "nbconvert_exporter": "python",
   "pygments_lexer": "ipython3",
   "version": "3.10.5"
  },
  "vscode": {
   "interpreter": {
    "hash": "26de051ba29f2982a8de78e945f0abaf191376122a1563185a90213a26c5da77"
   }
  }
 },
 "nbformat": 4,
 "nbformat_minor": 5
}
